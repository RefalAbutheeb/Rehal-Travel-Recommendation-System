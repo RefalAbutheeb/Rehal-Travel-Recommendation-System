{
 "cells": [
  {
   "cell_type": "markdown",
   "id": "de7ae3c0-145d-4f75-bd7b-72a405b05023",
   "metadata": {},
   "source": [
    "# Phase 4: Generative AI"
   ]
  },
  {
   "cell_type": "markdown",
   "id": "9ee99bcf-526e-4ff9-8019-9c0a44ad1c8e",
   "metadata": {},
   "source": [
    "### In this phase, we integrate Generative AI into our Travel Recommendadtion System. This AI integration will improve the Travel Recommendadtion System by providing detailed information about destinations based on user input. To achieve this, we will use one of the LAMA Generative AI model though Groq framework."
   ]
  },
  {
   "cell_type": "markdown",
   "id": "313a6cb4-a829-4c69-8f47-576ecc6c2ec3",
   "metadata": {},
   "source": [
    "## Load libraries"
   ]
  },
  {
   "cell_type": "code",
   "execution_count": 1,
   "id": "96a9676c-d374-4a7c-9f81-0a8f9185f04e",
   "metadata": {},
   "outputs": [],
   "source": [
    "import pandas as pd\n",
    "import numpy as np\n",
    "import pickle\n",
    "import warnings\n",
    "warnings.filterwarnings(\"ignore\")"
   ]
  },
  {
   "cell_type": "markdown",
   "id": "d67f582d-3c5c-41a3-aaa3-9a299e816ca8",
   "metadata": {},
   "source": [
    "## Load datasets and models"
   ]
  },
  {
   "cell_type": "code",
   "execution_count": 2,
   "id": "0c0e0bf7-2773-46f0-8c24-5e7f3390a363",
   "metadata": {},
   "outputs": [],
   "source": [
    "# load cleaned and clustered datasets\n",
    "cleaned_df = pd.read_csv('data/cleaned_df.csv')\n",
    "clustered_dataset = pd.read_csv('data/clustered_dataset.csv')\n",
    "\n",
    "# Load destination normalization model\n",
    "to_model = pickle.load(open('models/to_model.sav', 'rb')) \n",
    "\n",
    "# load Random Forest model\n",
    "RF_Model = pickle.load(open('models/RF_Model.sav', 'rb')) \n",
    "\n",
    "# load K-Means model\n",
    "kmeans_model = pickle.load(open('models/kmeans_model.sav', 'rb')) "
   ]
  },
  {
   "cell_type": "markdown",
   "id": "337d93f8-7651-4bf0-8e43-33d17f340d5c",
   "metadata": {},
   "source": [
    "## Example input data"
   ]
  },
  {
   "cell_type": "code",
   "execution_count": 5,
   "id": "d4fa1eee-96fb-4138-8195-31c8ad0097bd",
   "metadata": {},
   "outputs": [],
   "source": [
    "# Define features\n",
    "features = ['from','price_x', 'time','flightType', 'agency', 'days', 'price_y', 'age', 'gender','company']\n",
    "\n",
    "# features\n",
    "X = cleaned_df[features]\n",
    "\n",
    "# input data\n",
    "input_data = X.iloc[3,:]"
   ]
  },
  {
   "cell_type": "markdown",
   "id": "56f2aded-ad48-41e7-a0e1-e89516008874",
   "metadata": {},
   "source": [
    "## Predict the destination using Random Forest Model"
   ]
  },
  {
   "cell_type": "code",
   "execution_count": 6,
   "id": "5a71c0ec-f79e-4754-a815-6ec2d7308a7f",
   "metadata": {},
   "outputs": [
    {
     "name": "stdout",
     "output_type": "stream",
     "text": [
      "Predicted Destination:  Aracaju (SE)\n"
     ]
    }
   ],
   "source": [
    "predicted_destination = RF_Model.predict(np.array(input_data).reshape(1, -1))\n",
    "predicted_destination_label = to_model.inverse_transform(predicted_destination)\n",
    "print('Predicted Destination: ', predicted_destination_label[0])"
   ]
  },
  {
   "cell_type": "code",
   "execution_count": 7,
   "id": "e0fa2eec-fd36-40de-8d08-ea9e7d433fbe",
   "metadata": {},
   "outputs": [],
   "source": [
    "# find cluster of the current input data\n",
    "predicted_cluster = kmeans_model.predict(np.array(input_data).reshape(1, -1))\n",
    "pred_cluster = predicted_cluster[0]"
   ]
  },
  {
   "cell_type": "markdown",
   "id": "5e101466-0e22-48ca-8fd3-83997af25572",
   "metadata": {},
   "source": [
    "# Make Recommendations"
   ]
  },
  {
   "cell_type": "code",
   "execution_count": 8,
   "id": "2f124e50-ff2b-45df-a553-34f7865cc740",
   "metadata": {},
   "outputs": [],
   "source": [
    "# Fetch similar users in the same cluster\n",
    "similar_users = clustered_dataset[clustered_dataset['cluster_kmeans'] == pred_cluster]\n",
    "top_destinations = similar_users['to'].value_counts().head(2).index.tolist()\n",
    "top_hotels = similar_users['name_x'].value_counts().head(3).index.tolist()"
   ]
  },
  {
   "cell_type": "code",
   "execution_count": 9,
   "id": "a36f5e74-d425-49a9-b3d0-18915c03d15d",
   "metadata": {},
   "outputs": [],
   "source": [
    "# add the predicted destination to the top destinations \n",
    "if predicted_destination_label[0] not in top_destinations:\n",
    "    top_destinations.insert(0, predicted_destination_label[0])"
   ]
  },
  {
   "cell_type": "code",
   "execution_count": 10,
   "id": "59e28076-12f9-46c3-ae7f-3b04e84e3d75",
   "metadata": {},
   "outputs": [],
   "source": [
    "recommendation = f\"\"\"\n",
    "Based on your input, we recommend the following:\n",
    "- Top Destinations: {', '.join(top_destinations)}\n",
    "- Recommended Hotels: {', '.join(top_hotels)}\n",
    "- Average Flight Price: ${similar_users['price_x'].mean():.2f}\n",
    "- Average Stay Cost: ${similar_users['total'].mean():.2f}\n",
    "\"\"\""
   ]
  },
  {
   "cell_type": "code",
   "execution_count": 11,
   "id": "48068aa5-4975-40e9-8c64-dc3c299e4551",
   "metadata": {},
   "outputs": [
    {
     "name": "stdout",
     "output_type": "stream",
     "text": [
      "\n",
      "Based on your input, we recommend the following:\n",
      "- Top Destinations: Aracaju (SE), Florianopolis (SC), Campo Grande (MS)\n",
      "- Recommended Hotels: Hotel K, Hotel AF, Hotel CB\n",
      "- Average Flight Price: $1009.21\n",
      "- Average Stay Cost: $510.16\n",
      "\n"
     ]
    }
   ],
   "source": [
    "print(recommendation)"
   ]
  },
  {
   "cell_type": "markdown",
   "id": "31e262e9-77fa-4db5-aa54-e852fb6c3eae",
   "metadata": {},
   "source": [
    "# AI Integration"
   ]
  },
  {
   "cell_type": "markdown",
   "id": "24aeb995-f8ab-4124-b59a-a19097c7e901",
   "metadata": {},
   "source": [
    "## Load libraries"
   ]
  },
  {
   "cell_type": "code",
   "execution_count": 12,
   "id": "65031153-1003-438d-8028-0408d0e3aca0",
   "metadata": {},
   "outputs": [],
   "source": [
    "import os\n",
    "from groq import Groq"
   ]
  },
  {
   "cell_type": "markdown",
   "id": "44799434-2e9a-4dcc-b0c1-77bf93f17f4a",
   "metadata": {},
   "source": [
    "## API Key"
   ]
  },
  {
   "cell_type": "code",
   "execution_count": 13,
   "id": "888860cb-f99b-4adb-aa58-d7e42ff09f09",
   "metadata": {},
   "outputs": [],
   "source": [
    "os.environ[\"GROQ_API_KEY\"] = \"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\""
   ]
  },
  {
   "cell_type": "markdown",
   "id": "8d3f4aa9-f2fc-423a-8c81-52ec91e196b9",
   "metadata": {},
   "source": [
    "## Function for generating recommendations"
   ]
  },
  {
   "cell_type": "code",
   "execution_count": 14,
   "id": "f5098ba1-b767-4b8c-a395-480b89ee9bb5",
   "metadata": {},
   "outputs": [],
   "source": [
    "def generate_recommendation(cluster, similar_users,top_destinations,top_hotels,template_type=\"brief\"):  \n",
    "    # Define prompt templates\n",
    "    brief_prompt = f\"\"\"\n",
    "    Based on your travel history and spending habits, we recommend the following:\n",
    "    - Top Destinations: {', '.join(top_destinations)}\n",
    "    - Recommended Hotels: {', '.join(top_hotels)}\n",
    "    - Average Flight Price: ${similar_users['price_x'].mean():.2f}\n",
    "    - Average Stay Cost: ${similar_users['total'].mean():.2f}\n",
    "    \"\"\"\n",
    "    \n",
    "    detailed_prompt = f\"\"\"\n",
    "    You are an AI travel assistant. A corporate traveler has a history of business trips and prefers optimized recommendations.\n",
    "    The user is part of cluster {cluster}, which includes travelers with similar spending patterns.\n",
    "    \n",
    "    Suggest the best travel options based on:\n",
    "    - Preferred destinations: {', '.join(top_destinations)}\n",
    "    - Recommended hotels: {', '.join(top_hotels)}\n",
    "    - Estimated budget: Flight (${similar_users['price_x'].mean():.2f}), Hotel (${similar_users['total'].mean():.2f})\n",
    "    \n",
    "    Provide a detailed explanation of why these choices suit the user’s profile.\n",
    "    \"\"\"\n",
    "    \n",
    "    # Select the prompt type\n",
    "    prompt = brief_prompt if template_type == \"brief\" else detailed_prompt\n",
    "    \n",
    "    \n",
    "    # Create the Groq client\n",
    "    client = Groq(api_key=os.environ.get(\"GROQ_API_KEY\"), )\n",
    "\n",
    "    response = client.chat.completions.create(\n",
    "        model=\"llama-3.1-8b-instant\",\n",
    "        messages=[{\"role\": \"system\", \"content\": \"You are a travel recommendation assistant.\"},\n",
    "                  {\"role\": \"user\", \"content\": prompt}],\n",
    "        temperature=1,\n",
    "        max_tokens=1024\n",
    "    )\n",
    "           \n",
    "    return response.choices[0].message.content"
   ]
  },
  {
   "cell_type": "markdown",
   "id": "e91d0bda-3ca8-487e-84a1-18706e0bb763",
   "metadata": {},
   "source": [
    "### Brief Recommendation"
   ]
  },
  {
   "cell_type": "code",
   "execution_count": 15,
   "id": "c61beaf5-b7f6-440b-9861-beaf885436bd",
   "metadata": {},
   "outputs": [
    {
     "name": "stdout",
     "output_type": "stream",
     "text": [
      "--- Brief Recommendation ---\n",
      "It seems like I have some interesting travel proposals based on my past preferences and spending habits.\n",
      "\n",
      "To recap, here are the top destination recommendations:\n",
      "\n",
      "1. **Aracaju (SE)**: I've never visited Aracaju before, but I'm curious about the enchanting coastal city in the state of Sergipe. After traveling through Brazil, I'm excited to explore this lesser-known gem.\n",
      "\n",
      "2. **Florianopolis (SC)**: As a fan of stunning beaches and picturesque landscapes, Florianopolis is a perfect fit. I love the idea of relaxing in this beautiful city on the southeastern coast of Brazil.\n",
      "\n",
      "3. **Campo Grande (MS)**: This option is a bit more unusual, but I'm intrigued by the rich culture and natural beauty of Mato Grosso do Sul. It's time to explore the Pantanal region and experience the Wild West of Brazil.\n",
      "\n",
      "Based on my past hotel preferences, I'm considering the following options:\n",
      "\n",
      "1. **Hotel K**: This reliable hotel chain tends to offer excellent service and comfortable accommodations at a reasonable price. I'd love to experience the consistency of Hotel K in each of these destinations.\n",
      "\n",
      "2. **Hotel AF**: While this is another well-known hotel chain, I'm open to trying something new. After researching, I'm excited to learn more about Hotel AF and see how it measures up to my expectations.\n",
      "\n",
      "3. **Hotel CB**: Another quality hotel chain, Hotel CB seems like a great choice for each of these locations. I'm eager to see the amenities and services they have to offer.\n",
      "\n",
      "Travel costs are estimated as follows:\n",
      "\n",
      "- **Average Flight Price: $1009.21**: Considering the distances and flight options from my area, I'm pleased to see that this price is within my budget.\n",
      "- **Average Stay Cost: $510.16**: Including hotels, food, and local expenses, this cost seems reasonable, especially considering the affordable accommodations and dining options in each destination.\n",
      "\n",
      "I'm excited to embark on these Brazilian adventures and take advantage of the recommendations tailored to my preferences. Who knows, I may discover some new gems and create lasting memories!\n"
     ]
    }
   ],
   "source": [
    "generated_recommendation_brief = generate_recommendation(pred_cluster, similar_users, top_destinations, top_hotels, template_type=\"brief\")\n",
    "\n",
    "print(\"--- Brief Recommendation ---\")\n",
    "print(generated_recommendation_brief)\n"
   ]
  },
  {
   "cell_type": "markdown",
   "id": "f76d567c-f395-43f7-acb8-98fb14d5ae3f",
   "metadata": {},
   "source": [
    "### Detailed Recommendation"
   ]
  },
  {
   "cell_type": "code",
   "execution_count": 16,
   "id": "1cf67e3c-0352-43f6-9e53-2e617cea83db",
   "metadata": {},
   "outputs": [
    {
     "name": "stdout",
     "output_type": "stream",
     "text": [
      "\n",
      "--- Detailed Recommendation ---\n",
      "**Personalized Travel Recommendations for Cluster 1 Corporate Traveler**\n",
      "\n",
      "Based on the user's profile, I've analyzed their preferences and budget to provide optimized travel suggestions for their next business trip.\n",
      "\n",
      "**Destination Recommendations**\n",
      "\n",
      "Considering the user's fondness for visiting Aracaju (SE), Florianopolis (SC), and Campo Grande (MS), I've ranked the destinations based on factors such as accessibility, business relevance, and personal interest.\n",
      "\n",
      "1. **Top Recommendation: Florianopolis (SC)**\n",
      "Florianopolis is a strategic destination for business travelers, offering a mix of relaxation and productivity. Its beaches, cultural attractions, and modern infrastructure make it an ideal location for conferences and corporate events. Flight duration from major cities is approximately 2 hours, making it easily accessible.\n",
      "2. **Secondary Recommendation: Aracaju (SE)**\n",
      "Aracaju offers a unique blend of urban and natural attractions, with its beautiful beaches, water sports, and historic sites. The city has a growing business community, making it an attractive destination for corporate travelers.\n",
      "3. **Alternative Recommendation: Campo Grande (MS)**\n",
      "Campo Grande is a great option for business travelers seeking a tranquil environment and networking opportunities. While it may not offer the same level of modern infrastructure as Florianopolis, it has a stable economy and a growing expat community.\n",
      "\n",
      "**Accommodation Recommendations**\n",
      "\n",
      "Based on the user's history with Hotel K, Hotel AF, and Hotel CB, I've evaluated these options against industry benchmarks and user reviews.\n",
      "\n",
      "1. **Top Recommendation: Hotel AF**\n",
      "Hotel AF is a high-end establishment in Florianopolis, offering luxurious amenities and excellent service. Its central location and modern facilities make it an ideal choice for corporate travelers.\n",
      "2. **Secondary Recommendation: Hotel K**\n",
      "Hotel K is a reliable option in Aracaju, providing comfortable rooms and a convenient location. Its relatively affordable rates make it an attractive choice for budget-conscious travelers.\n",
      "3. **Alternative Recommendation: Hotel CB**\n",
      "Hotel CB is a mid-range property in Campo Grande, offering decent amenities and a secure environment. While not the most luxurious option, it provides a comfortable stay at an affordable price.\n",
      "\n",
      "**Budget Breakdown**\n",
      "\n",
      "To ensure the user stays within their estimated budget, I've allocated funds accordingly:\n",
      "\n",
      "1. **Flight:** $1009.21\n",
      " - The exact amount allocated to flights will depend on the user's preferred departure city. For this example, I've assumed a reasonable allocation.\n",
      "2. **Hotel:** $510.16\n",
      " - This amount assumes a mid-range hotel stay in the recommended destination (Hotel AF in Florianopolis).\n",
      "\n",
      "**Analysis of Recommendations**\n",
      "\n",
      "The chosen destinations and accommodations cater to the user's preferences for Aracaju, Florianopolis, and Campo Grande, while considering factors like accessibility, business relevance, and personal interest. The selected hotels offer a balance of luxury, comfort, and affordability, aligning with the user's spending patterns in the Hotel K, Hotel AF, and Hotel CB clusters.\n",
      "\n",
      "These recommendations should provide an optimal travel experience for the user, meeting their needs for productivity, relaxation, and entrepreneurship.\n"
     ]
    }
   ],
   "source": [
    "generated_recommendation_detailed = generate_recommendation(pred_cluster, similar_users, top_destinations, top_hotels, template_type=\"detailed\")\n",
    "print(\"\\n--- Detailed Recommendation ---\")\n",
    "print(generated_recommendation_detailed)\n"
   ]
  },
  {
   "cell_type": "markdown",
   "id": "6bac22d5-a4a2-43e2-819c-1aa4ce91ff5d",
   "metadata": {},
   "source": [
    "---------------------------------------------------------------------       "
   ]
  },
  {
   "cell_type": "markdown",
   "id": "8974b101-2989-47f8-8e20-6fb0d00851a9",
   "metadata": {},
   "source": [
    "# Demonstration of the Templates and the Differences between their Outcomes"
   ]
  },
  {
   "cell_type": "markdown",
   "id": "c47e774b-2e9f-4c5b-ae22-88c15e42d41e",
   "metadata": {},
   "source": [
    "## Differences Between the Brief and Detailed Templates\n",
    "### The Brief Template provides a concise and straightforward overview of travel recommendations, listing top destinations, recommended hotels, and average costs in a simple bullet-point format. It focuses on delivering key information quickly without delving into detailed explanations or personalization. In contrast, the Detailed Template offers a comprehensive and structured analysis, including a rationale for the recommendations, a deeper explanation of how the choices align with the user’s profile, and even suggests modifications to the itinerary (e.g., swapping Aracaju for Vitoria). It also breaks down the estimated budget and explains how it fits the user’s spending patterns, making it more personalized and context-rich. While the Brief Template is easy to read and quick to digest, the Detailed Template is more informative, adaptive, and tailored to the user’s specific needs.\n",
    "\n",
    "## Outcomes of Each Template\n",
    "### The Brief Template produces a quick and easy-to-read summary of travel recommendations, ideal for users who want a fast overview without needing in-depth explanations or personalized insights. It highlights the top destinations, hotels, and costs in a clear and concise manner. On the other hand, the Detailed Template generates a thorough and personalized travel plan that considers the user’s preferences, spending habits, and cluster profile. It provides a detailed explanation of why the recommendations are suitable, suggests alternative options, and offers a breakdown of the budget, making it more informative and tailored. The Brief Template is perfect for users seeking a snapshot of their options, while the Detailed Template is better suited for those who want a well-reasoned and customized travel plan.\n",
    "\n",
    "## Best Template:\n",
    "### The choice between the two templates depends on the user’s needs and preferences. The Brief Template is better for users who prefer quick, concise information and do not require detailed explanations or personalized insights. It is ideal for those looking for a fast overview of travel options. In contrast, the Detailed Template is better for users who want a comprehensive, personalized travel plan with detailed reasoning behind the recommendations. It is particularly valuable for users who value tailored suggestions and are willing to spend more time reviewing a more complex but highly relevant travel plan. In summary, the Brief Template is suitable for simplicity and speed, while the Detailed Template excels in personalization and depth.\n"
   ]
  },
  {
   "cell_type": "code",
   "execution_count": null,
   "id": "a54f107a-9a48-4856-9457-591a6613df17",
   "metadata": {},
   "outputs": [],
   "source": []
  },
  {
   "cell_type": "code",
   "execution_count": null,
   "id": "fc037eb9-1e3a-4951-a469-71b2e0be5a39",
   "metadata": {},
   "outputs": [],
   "source": []
  }
 ],
 "metadata": {
  "kernelspec": {
   "display_name": "Python 3 (ipykernel)",
   "language": "python",
   "name": "python3"
  },
  "language_info": {
   "codemirror_mode": {
    "name": "ipython",
    "version": 3
   },
   "file_extension": ".py",
   "mimetype": "text/x-python",
   "name": "python",
   "nbconvert_exporter": "python",
   "pygments_lexer": "ipython3",
   "version": "3.11.5"
  }
 },
 "nbformat": 4,
 "nbformat_minor": 5
}
