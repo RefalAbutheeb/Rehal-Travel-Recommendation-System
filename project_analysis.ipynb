{
 "cells": [
  {
   "cell_type": "markdown",
   "metadata": {},
   "source": [
    "# Rehal Travel Recommendation System\n",
    "---\n",
    "## **1. Team Members**\n",
    "- **Refal Abutheeb** (Student ID: 443200792)\n",
    "- **Raghad alqahtani** (Student ID: 443200549)\n",
    "- **Alanoud Almuzayrie** (Student ID: 443201087)\n",
    "- **Reema Alsurayea** (Student ID: 443203093)\n",
    "- **Amal Alharbi** (Student ID: 442202306)\n",
    "---\n",
    "## **2. Introduction**  \n",
    "Traveling can be an overwhelming process, especially when trying to balance budget, timing, and preferences. \"Rehal\" is a smart travel recommendation system designed to simplify the decision-making process by providing personalized travel suggestions based on data. Whether users are looking for the best time to travel, affordable hotels, or practical itineraries, Rehal makes planning seamless and efficient.\n",
    "---\n",
    "## **9. Preprocessing Techniques and Data Quality Check**\n",
    "### **1. Missing Values Check**\n",
    "To ensure data completeness, we used the `isnull()` method to check for missing values across all datasets:\n",
    "```python\n",
    "print(flights_data.isnull().sum())\n",
    "print(hotels_data.isnull().sum())\n",
    "print(users_data.isnull().sum())\n",
    "```\n",
    "#### **Result:**\n",
    "All datasets contain **0 missing values**, indicating that there are no gaps in the data that need to be filled or removed.\n",
    "---\n",
    "### **2. Duplicate Rows Check**\n",
    "We used the `duplicated()` method to check for any duplicate rows in the datasets:\n",
    "```python\n",
    "print(flights_data.duplicated().sum())\n",
    "print(hotels_data.duplicated().sum())\n",
    "print(users_data.duplicated().sum())\n",
    "```\n",
    "#### **Result:**\n",
    "All datasets have **0 duplicate rows**, confirming that the data is free from redundancy.\n",
    "---\n",
    "### **3. Data Type Verification**\n",
    "We also reviewed the data types of all columns to ensure consistency. The date columns require conversion to datetime format.\n",
    "```python\n",
    "print(flights_data.dtypes)\n",
    "print(hotels_data.dtypes)\n",
    "print(users_data.dtypes)\n",
    "```\n"
   ]
  }
 ],
 "metadata": {
  "language_info": {
   "name": "python"
  }
 },
 "nbformat": 4,
 "nbformat_minor": 2
}

 "nbformat_minor": 2
}
