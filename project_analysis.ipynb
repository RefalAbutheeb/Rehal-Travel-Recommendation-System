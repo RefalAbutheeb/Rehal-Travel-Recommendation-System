{
 "cells": [
  {
   "cell_type": "markdown",
   "metadata": {},
   "source": [
    "# Rehal Travel Recommendation System"
   ]
  },
  {
   "cell_type": "markdown",
   "metadata": {},
   "source": [
    "---\n",
    "## **1. Team Members**\n",
    "- **Refal Abutheeb** (Student ID: 443200792)\n",
    "- **Raghad alqahtani** (Student ID: 443200549)\n",
    "- **Alanoud Almuzayrie** (Student ID: 443201087)\n",
    "- **Reema Alsurayea** (Student ID: 443203093)\n",
    "- **Amal Alharbi** (Student ID: 442202306)"
   ]
  },
  {
   "cell_type": "markdown",
   "metadata": {},
   "source": [
    "---\n",
    "## **2. Introduction**\n",
    "Traveling can be an overwhelming process, especially when trying to balance budget, timing, and preferences. \"Rehal\" is a smart travel recommendation system designed to simplify the decision-making process by providing personalized travel suggestions based on data."
   ]
  },
  {
   "cell_type": "markdown",
   "metadata": {},
   "source": [
    "---\n",
    "## **3. Motivation**\n",
    "- Offer users a one-stop system for data-driven travel recommendations.\n",
    "- Help travelers optimize their budget and time.\n",
    "- Provide useful insights using real-world travel data."
   ]
  },
  {
   "cell_type": "markdown",
   "metadata": {},
   "source": [
    "---\n",
    "## **4. Problem Statement**\n",
    "Travelers often face difficulties in:\n",
    "1. Identifying cost-effective travel options.\n",
    "2. Planning trips that align with their preferences and budget.\n",
    "3. Finding consolidated travel information."
   ]
  },
  {
   "cell_type": "markdown",
   "metadata": {},
   "source": [
    "---\n",
    "## **5. Goal (Purpose of Collecting the Dataset)**\n",
    "The goal of the dataset is to develop a smart travel recommendation system that can:\n",
    "- Provide users with personalized travel suggestions.\n",
    "- Offer insights into optimal travel timings, destinations, and accommodations."
   ]
  },
  {
   "cell_type": "markdown",
   "metadata": {},
   "source": [
    "---\n",
    "## **6. Scope**"
   ]
  },
  {
   "cell_type": "markdown",
   "metadata": {},
   "source": [
    "---\n",
    "## **7. Dataset Overview**\n",
    "The dataset, sourced from **Kaggle**, simulates real-world corporate travel systems and contains information on flights, hotels, and users.\n",
    "- **Dataset Source:** [Kaggle - Argo Datathon 2019](https://www.kaggle.com/datasets/leomauro/argodatathon2019/data)"
   ]
  },
  {
   "cell_type": "markdown",
   "metadata": {},
   "source": [
    "---\n",
    "## **8. Dataset Details**\n",
    "**1. flights.csv**\n",
    "- **Number of rows:** 271,888\n",
    "- **Number of columns:** 10\n",
    "**Features:**\n",
    "- `travelCode`: Travel identifier (integer)\n",
    "- `userCode`: User identifier (integer)\n",
    "- `from`: Departure location (string)\n",
    "- `to`: Destination location (string)\n",
    "- `flightType`: Type of flight (string, e.g., first class)\n",
    "- `price`: Price of the flight (float)\n",
    "- `time`: Duration of the flight (float, hours)\n",
    "- `distance`: Distance between locations (float)\n",
    "- `agency`: Travel agency name (string)\n",
    "- `date`: Travel date (string)"
   ]
  },
  {
   "cell_type": "markdown",
   "metadata": {},
   "source": [
    "**Sample Data:**\n",
    "| travelCode | userCode | from   | to     | flightType | price  | time | distance | agency   | date       |\n",
    "|------------|----------|--------|--------|------------|--------|------|----------|----------|------------|\n",
    "| 1001       | 2002     | Riyadh | Dubai  | Business   | 1234.5 | 2.5  | 1200.0   | AgencyX  | 2023-05-15 |"
   ]
  },
  {
   "cell_type": "markdown",
   "metadata": {},
   "source": [
    "**2. hotels.csv**\n",
    "- **Number of rows:** 40,552\n",
    "- **Number of columns:** 8\n",
    "**Features:**\n",
    "- `travelCode`: Travel identifier (integer)\n",
    "- `userCode`: User identifier (integer)\n",
    "- `name`: Hotel name (string)\n",
    "- `place`: Hotel location (string)\n",
    "- `days`: Number of days booked (integer)\n",
    "- `price`: Price per day (float)\n",
    "- `total`: Total booking price (float)\n",
    "- `date`: Booking date (string)"
   ]
  },
  {
   "cell_type": "markdown",
   "metadata": {},
   "source": [
    "**Sample Data:**\n",
    "| travelCode | userCode | name           | place  | days | price | total | date       |\n",
    "|------------|----------|-----------------|--------|------|-------|-------|------------|\n",
    "| 1001       | 2002     | Grand Hotel     | Dubai  | 5    | 200.0 | 1000.0| 2023-05-10 |"
   ]
  },
  {
   "cell_type": "markdown",
   "metadata": {},
   "source": [
    "**3. users.csv**\n",
    "- **Number of rows:** 1,340\n",
    "- **Number of columns:** 5\n",
    "**Features:**\n",
    "- `code`: Unique user identifier (integer)\n",
    "- `company`: Company the user belongs to (string)\n",
    "- `name`: User's full name (string)\n",
    "- `gender`: User's gender (string)\n",
    "- `age`: User's age (integer)"
   ]
  },
  {
   "cell_type": "markdown",
   "metadata": {},
   "source": [
    "**Sample Data:**\n",
    "| code | company     | name          | gender | age |\n",
    "|------|-------------|---------------|--------|-----|\n",
    "| 2002 | TechCorp    | John Doe      | Male   | 35  |"
   ]
  },
  {
   "cell_type": "markdown",
   "metadata": {},
   "source": [
    "---\n",
    "## **9. Preprocessing Techniques**"
   ]
  },
  {
   "cell_type": "markdown",
   "metadata": {},
   "source": [
    "**Missing Values Check:**\n",
    "- We used the `isnull()` method to check for missing values in all datasets.\n",
    "- **Result:** No missing values found in any dataset."
   ]
  },
  {
   "cell_type": "code",
   "execution_count": null,
   "metadata": {},
   "outputs": [],
   "source": [
    "print(flights_data.isnull().sum())\n",
    "print(hotels_data.isnull().sum())\n",
    "print(users_data.isnull().sum())"
   ]
  },
  {
   "cell_type": "markdown",
   "metadata": {},
   "source": [
    "---\n",
    "## **10. Descriptive Statistics and Analysis**"
   ]
  },
  {
   "cell_type": "markdown",
   "metadata": {},
   "source": [
    "**1. Users Dataset (users.csv)**\n",
    "**Age Statistics:**\n",
    "- Mean: 42.74\n",
    "- Median: 42.0\n",
    "- Variance: 165.63\n",
    "- Standard Deviation: 12.87"
   ]
  },
  {
   "cell_type": "markdown",
   "metadata": {},
   "source": [
    "**Interpretation:**\n",
    "- The mean age of users is approximately 42.74 years.\n",
    "- The median age is 42, suggesting a fairly symmetrical distribution."
   ]
  },
  {
   "cell_type": "markdown",
   "metadata": {},
   "source": [
    "**2. Flights Dataset (flights.csv)**\n",
    "**Flight Price Statistics:**\n",
    "- Mean: 957.38\n",
    "- Median: 904.0\n",
    "- Variance: 131,269.91\n",
    "- Standard Deviation: 362.31"
   ]
  },
  {
   "cell_type": "markdown",
   "metadata": {},
   "source": [
    "**Interpretation:**\n",
    "- The average flight price is $957.38, with a median of $904."
   ]
  },
  {
   "cell_type": "markdown",
   "metadata": {},
   "source": [
    "**3. Hotels Dataset (hotels.csv)**\n",
    "**Hotel Price per Day Statistics:**\n",
    "- Mean: $214.44\n",
    "- Median: $242.88\n",
    "- Variance: 5,889.38\n",
    "- Standard Deviation: 76.74"
   ]
  },
  {
   "cell_type": "markdown",
   "metadata": {},
   "source": [
    "**Interpretation:**\n",
    "- The average hotel price per day is $214.44."
   ]
  },
  {
   "cell_type": "markdown",
   "metadata": {},
   "source": [
    "---\n",
    "**4. Visualizations:**\n",
    "- User Age Distribution\n",
    "- Flight Prices & Time Distribution"
   ]
  },
  {
   "cell_type": "code",
   "execution_count": null,
   "metadata": {},
   "outputs": [],
   "source": [
    "# Sample code for visualizations\n",
    "import matplotlib.pyplot as plt\n",
    "flights_data['price'].hist()"
   ]
  },
  {
   "cell_type": "markdown",
   "metadata": {},
   "source": [
    "---\n",
    "**5. Summary of Findings:**\n",
    "1. User Age Distribution: The analysis shows the predominant age group using travel services.\n",
    "2. Flight Pricing: There is significant price variability.\n",
    "3. Hotel Pricing: Provides insight into typical spending per night."
   ]
  }
 ],
 "metadata": {
  "kernelspec": {
   "display_name": "Python 3",
   "language": "python",
   "name": "python3"
  },
  "language_info": {
   "name": "python",
   "version": "3.8.10"
  }
 },
 "nbformat": 4,
 "nbformat_minor": 4
}


