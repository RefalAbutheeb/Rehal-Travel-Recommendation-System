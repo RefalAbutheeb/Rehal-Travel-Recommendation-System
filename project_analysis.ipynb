{
 "cells": [
  {
   "cell_type": "markdown",
   "metadata": {},
   "source": [
    "# Rehal Travel Recommendation System"
   ]
  },
  {
   "cell_type": "markdown",
   "metadata": {},
   "source": [
    "## **1. Team Members**",
    "- **Refal Abutheeb** (Student ID: 443200792)",
    "- **Raghad alqahtani** (Student ID: 443200549)",
    "- **Alanoud Almuzayrie** (Student ID: 443201087)",
    "- **Reema Alsurayea** (Student ID: 443203093)",
    "- **Amal Alharbi** (Student ID: 442202306)"
   ]
  },
  {
   "cell_type": "markdown",
   "metadata": {},
   "source": [
    "## **2. Introduction**",
    "Traveling can be an overwhelming process, especially when trying to balance budget, timing, and preferences. \"Rehal\" is a smart travel recommendation system designed to simplify the decision-making process by providing personalized travel suggestions based on data."
   ]
  },
  {
   "cell_type": "markdown",
   "metadata": {},
   "source": [
    "## **3. Motivation**",
    "- Offer users a one-stop system for data-driven travel recommendations.",
    "- Help travelers optimize their budget and time.",
    "- Provide useful insights using real-world travel data."
   ]
  },
  {
   "cell_type": "markdown",
   "metadata": {},
   "source": [
    "## **4. Problem Statement**",
    "Travelers often face difficulties in:",
    "1. Identifying cost-effective travel options.",
    "2. Planning trips that align with their preferences and budget.",
    "3. Finding consolidated travel information."
   ]
  },
  {
   "cell_type": "markdown",
   "metadata": {},
   "source": [
    "## **5. Goal**",
    "- Provide users with personalized travel suggestions.",
    "- Offer insights into optimal travel timings, destinations, and accommodations.",
    "- Identify travel trends and patterns."
   ]
  },
  {
   "cell_type": "markdown",
   "metadata": {},
   "source": [
    "## **6. Scope**",
    "- Analyzing flight, hotel, and user data for personalized travel recommendations.",
    "- Ensuring data quality through exploration and analysis."
   ]
  },
  {
   "cell_type": "markdown",
   "metadata": {},
   "source": [
    "## **7. Dataset Overview**",
    "The dataset, sourced from Kaggle, contains information on flights, hotels, and users."
   ]
  },
  {
   "cell_type": "markdown",
   "metadata": {},
   "source": [
    "### **Main Files:**",
    "- `flights.csv`: Detailed records of flight bookings.",
    "- `hotels.csv`: Hotel booking and pricing information.",
    "- `users.csv`: User profile data."
   ]
  },
  {
   "cell_type": "markdown",
   "metadata": {},
   "source": [
    "### **Dataset Details**"
   ]
  },
  {
   "cell_type": "markdown",
   "metadata": {},
   "source": [
    "**1. flights.csv**",
    "- **Rows:** 271,888",
    "- **Columns:** 10"
   ]
  },
  {
   "cell_type": "markdown",
   "metadata": {},
   "source": [
    "**Features:**",
    "- `travelCode`: Travel identifier (integer)",
    "- `userCode`: User identifier (integer)",
    "- `from`: Departure location (string)",
    "- `to`: Destination location (string)",
    "- `flightType`: Type of flight (e.g., first class)",
    "- `price`: Price of the flight (float)",
    "- `time`: Duration of the flight (float)",
    "- `distance`: Distance between locations (float)",
    "- `agency`: Travel agency name (string)",
    "- `date`: Travel date (string)"
   ]
  },
  {
   "cell_type": "markdown",
   "metadata": {},
   "source": [
    "**2. hotels.csv**",
    "- **Rows:** 40,552",
    "- **Columns:** 8"
   ]
  },
  {
   "cell_type": "markdown",
   "metadata": {},
   "source": [
    "**Features:**",
    "- `travelCode`: Travel identifier (integer)",
    "- `userCode`: User identifier (integer)",
    "- `name`: Hotel name (string)",
    "- `place`: Hotel location (string)",
    "- `days`: Number of days booked (integer)",
    "- `price`: Price per day (float)",
    "- `total`: Total booking price (float)",
    "- `date`: Booking date (string)"
   ]
  },
  {
   "cell_type": "markdown",
   "metadata": {},
   "source": [
    "**3. users.csv**",
    "- **Rows:** 1,340",
    "- **Columns:** 5"
   ]
  },
  {
   "cell_type": "markdown",
   "metadata": {},
   "source": [
    "**Features:**",
    "- `code`: Unique user identifier (integer)",
    "- `company`: Company the user belongs to (string)",
    "- `name`: User's full name (string)",
    "- `gender`: User's gender (string)",
    "- `age`: User's age (integer)"
   ]
  },
  {
   "cell_type": "markdown",
   "metadata": {},
   "source": [
    "## **8. Preprocessing Techniques and Data Quality Check**"
   ]
  },
  {
   "cell_type": "markdown",
   "metadata": {},
   "source": [
    "**Missing Values Check:**",
    "- We used the `isnull()` method to check for missing values in all datasets.",
    "- **Result:** No missing values found."
   ]
  },
  {
   "cell_type": "code",
   "execution_count": null,
   "metadata": {},
   "outputs": [],
   "source": [
    "print(flights_data.isnull().sum())",
    "print(hotels_data.isnull().sum())",
    "print(users_data.isnull().sum())"
   ]
  },
  {
   "cell_type": "markdown",
   "metadata": {},
   "source": [
    "**Duplicate Rows Check:**",
    "- We used the `duplicated()` method to identify duplicate rows.",
    "- **Result:** No duplicate rows found."
   ]
  },
  {
   "cell_type": "code",
   "execution_count": null,
   "metadata": {},
   "outputs": [],
   "source": [
    "print(flights_data.duplicated().sum())"
   ]
  }
 ],
 "metadata": {
  "kernelspec": {
   "display_name": "Python 3",
   "language": "python",
   "name": "python3"
  },
  "language_info": {
   "name": "python",
   "version": "3.8.10"
  }
 },
 "nbformat": 4,
 "nbformat_minor": 4
}
