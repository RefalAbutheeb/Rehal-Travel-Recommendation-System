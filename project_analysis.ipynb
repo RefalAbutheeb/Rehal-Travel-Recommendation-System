{
 "cells": [
  {
   "cell_type": "markdown",
   "metadata": {},
   "source": [
    "# Rehal Travel Recommendation System"
   ]
  },
  {
   "cell_type": "markdown",
   "metadata": {},
   "source": [
    "---\n",
    "## **1. Team Members**\n",
    "- **Refal Abutheeb** (Student ID: 443200792)\n",
    "- **Raghad alqahtani** (Student ID: 443200549)\n",
    "- **Alanoud Almuzayrie** (Student ID: 443201087)\n",
    "- **Reema Alsurayea** (Student ID: 443203093)\n",
    "- **Amal Alharbi** (Student ID: 442202306)"
   ]
  },
  {
   "cell_type": "markdown",
   "metadata": {},
   "source": [
    "---\n",
    "## **2. Introduction**\n",
    "Traveling can be an overwhelming process, especially when trying to balance budget, timing, and preferences. \"Rehal\" is a smart travel recommendation system designed to simplify the decision-making process by providing personalized travel suggestions based on data."
   ]
  },
  {
   "cell_type": "markdown",
   "metadata": {},
   "source": [
    "---\n",
    "## **3. Motivation**\n",
    "- Offer users a one-stop system for data-driven travel recommendations.\n",
    "- Help travelers optimize their budget and time.\n",
    "- Provide useful insights using real-world travel data.\n",
    "\n",
    "The dataset was chosen because it simulates real corporate travel systems with detailed flight, hotel, and user data, enabling meaningful analysis and recommendations."
   ]
  },
  {
   "cell_type": "markdown",
   "metadata": {},
   "source": [
    "---\n",
    "## **4. Problem Statement**\n",
    "Travelers often face difficulties in:\n",
    "1. Identifying cost-effective travel options.\n",
    "2. Planning trips that align with their preferences and budget.\n",
    "3. Finding consolidated travel information."
   ]
  },
  {
   "cell_type": "markdown",
   "metadata": {},
   "source": [
    "---\n",
    "## **5. Goal (Purpose of Collecting the Dataset)**\n",
    "The goal of the dataset is to develop a smart travel recommendation system that can:\n",
    "- Provide users with personalized travel suggestions.\n",
    "- Offer insights into optimal travel timings, destinations, and accommodations.\n",
    "- Identify travel trends and patterns, improving trip planning and budgeting."
   ]
  },
  {
   "cell_type": "markdown",
   "metadata": {},
   "source": [
    "---\n",
    "## **6. Scope**\n",
    "The scope of the Rehal Travel Recommendation System includes:\n",
    "- Analyzing flight, hotel, and user data to provide personalized travel recommendations.\n",
    "- Focusing on budget optimization, seasonal travel trends, and user preferences.\n",
    "- Processing structured travel data, excluding Arabic text or images.\n",
    "- Ensuring data quality through exploration and analysis.\n",
    "\n",
    "The system does **not** include:\n",
    "- Real-time travel booking or reservation features.\n",
    "- Integration with third-party travel services."
   ]
  },
  {
   "cell_type": "markdown",
   "metadata": {},
   "source": [
    "---\n",
    "## **7. Dataset Overview**\n",
    "The dataset, sourced from **Kaggle**, simulates real-world corporate travel systems and contains information on flights, hotels, and users.\n",
    "- **Dataset Source:** [Kaggle - Argo Datathon 2019](https://www.kaggle.com/datasets/leomauro/argodatathon2019/data)"
   ]
  },
  {
   "cell_type": "markdown",
   "metadata": {},
   "source": [
    "---\n",
    "## **8. Dataset Details**\n",
    "**1. flights.csv**\n",
    "- **Number of rows:** 271,888\n",
    "- **Number of columns:** 10\n",
    "**Features:**\n",
    "- `travelCode`: Travel identifier (integer)\n",
    "- `userCode`: User identifier (integer)\n",
    "- `from`: Departure location (string)\n",
    "- `to`: Destination location (string)\n",
    "- `flightType`: Type of flight (string, e.g., first class)\n",
    "- `price`: Price of the flight (float)\n",
    "- `time`: Duration of the flight (float, hours)\n",
    "- `distance`: Distance between locations (float)\n",
    "- `agency`: Travel agency name (string)\n",
    "- `date`: Travel date (string)"
   ]
  },
  {
   "cell_type": "markdown",
   "metadata": {},
   "source": [
    "**Sample Data:**\n",
    "| travelCode | userCode | from   | to     | flightType | price  | time | distance | agency   | date       |\n",
    "|------------|----------|--------|--------|------------|--------|------|----------|----------|------------|\n",
    "| 1001       | 2002     | Riyadh | Dubai  | Business   | 1234.5 | 2.5  | 1200.0   | AgencyX  | 2023-05-15 |"
   ]
  },
  {
   "cell_type": "markdown",
   "metadata": {},
   "source": [
    "**2. hotels.csv**\n",
    "- **Number of rows:** 40,552\n",
    "- **Number of columns:** 8\n",
    "**Features:**\n",
    "- `travelCode`: Travel identifier (integer)\n",
    "- `userCode`: User identifier (integer)\n",
    "- `name`: Hotel name (string)\n",
    "- `place`: Hotel location (string)\n",
    "- `days`: Number of days booked (integer)\n",
    "- `price`: Price per day (float)\n",
    "- `total`: Total booking price (float)\n",
    "- `date`: Booking date (string)"
   ]
  },
  {
   "cell_type": "markdown",
   "metadata": {},
   "source": [
    "**Sample Data:**\n",
    "| travelCode | userCode | name           | place  | days | price | total | date       |\n",
    "|------------|----------|-----------------|--------|------|-------|-------|------------|\n",
    "| 1001       | 2002     | Grand Hotel     | Dubai  | 5    | 200.0 | 1000.0| 2023-05-10 |"
   ]
  },
  {
   "cell_type": "markdown",
   "metadata": {},
   "source": [
    "**3. users.csv**\n",
    "- **Number of rows:** 1,340\n",
    "- **Number of columns:** 5\n",
    "**Features:**\n",
    "- `code`: Unique user identifier (integer)\n",
    "- `company`: Company the user belongs to (string)\n",
    "- `name`: User's full name (string)\n",
    "- `gender`: User's gender (string)\n",
    "- `age`: User's age (integer)"
   ]
  },
  {
   "cell_type": "markdown",
   "metadata": {},
   "source": [
    "**Sample Data:**\n",
    "| code | company     | name          | gender | age |\n",
    "|------|-------------|---------------|--------|-----|\n",
    "| 2002 | TechCorp    | John Doe      | Male   | 35  |"
   ]
  },
  {
   "cell_type": "markdown",
   "metadata": {},
   "source": [
    "---\n",
    "## **9. Preprocessing Techniques**"
   ]
  },
  {
   "cell_type": "markdown",
   "metadata": {},
   "source": [
    "**Missing Values Check:**\n",
    "- **Method:** We used the `isnull()` method in Pandas.\n",
    "- **Code:**\n",
    "```python\n",
    "print(flights_data.isnull().sum())\n",
    "print(hotels_data.isnull().sum())\n",
    "print(users_data.isnull().sum())\n",
    "```\n",
    "- **Result:** No missing values found in any dataset."
   ]
  },
  {
   "cell_type": "markdown",
   "metadata": {},
   "source": [
    "**Duplicate Rows Check:**\n",
    "- **Method:** We used the `duplicated()` method in Pandas.\n",
    "- **Code:**\n",
    "```python\n",
    "print(flights_data.duplicated().sum())\n",
    "print(hotels_data.duplicated().sum())\n",
    "print(users_data.duplicated().sum())\n",
    "```\n",
    "- **Result:** No duplicate rows found in any dataset."
   ]
  },
  {
   "cell_type": "markdown",
   "metadata": {},
   "source": [
    "**Date Column Conversion:**\n",
    "- **Method:** We used the `pd.to_datetime()` function from Pandas to convert date columns to datetime format.\n",
    "- **Code:**\n",
    "```python\n",
    "flights_data['date'] = pd.to_datetime(flights_data['date'], format='%m/%d/%Y')\n",
    "hotels_data['date'] = pd.to_datetime(hotels_data['date'], format='%m/%d/%Y')\n",
    "```\n",
    "- **Justification:** Proper date formatting is essential for time-series analysis and data filtering."
   ]
  },
  {
   "cell_type": "markdown",
   "metadata": {},
   "source": [
    "**Normalization of Continuous Variables:**\n",
    "- **Method:** We used the `MinMaxScaler()` from the `sklearn.preprocessing` module to normalize the `price`, `time`, and `distance` columns.\n",
    "- **Code:**\n",
    "```python\n",
    "from sklearn.preprocessing import MinMaxScaler\n",
    "\n",
    "scaler = MinMaxScaler()\n",
    "flights_data[['price', 'time', 'distance']] = scaler.fit_transform(flights_data[['price', 'time', 'distance']])\n",
    "```\n",
    "- **Justification:** Normalization ensures that features with large scales do not dominate those with smaller scales during analysis."
   ]
  },
  {
   "cell_type": "markdown",
   "metadata": {},
   "source": [
    "**Cleaning Text Data:**\n",
    "- **Method:** We used the `str.strip()` and `str.title()` methods in Pandas to clean and standardize text fields.\n",
    "- **Code:**\n",
    "```python\n",
    "flights_data['from'] = flights_data['from'].str.strip().str.title()\n",
    "flights_data['to'] = flights_data['to'].str.strip().str.title()\n",
    "hotels_data['place'] = hotels_data['place'].str.strip().str.title()\n",
    "hotels_data['name'] = hotels_data['name'].str.strip().str.title()\n",
    "```\n",
    "- **Justification:** Consistent text formatting improves data integrity and analysis results by reducing variations caused by inconsistent capitalization or whitespace."
   ]
  },
  {
   "cell_type": "markdown",
   "metadata": {},
   "source": [
    "---\n",
    "## **10. Descriptive Statistics and Analysis**"
   ]
  },
  {
   "cell_type": "markdown",
   "metadata": {},
   "source": [
    "**1. Users Dataset (users.csv)**\n",
    "\n",
    "**Age Statistics**\n",
    "- Mean: 42.74\n",
    "- Median: 42.0\n",
    "- Variance: 165.63\n",
    "- Standard Deviation: 12.87\n",
    "\n",
    "**Interpretation:**\n",
    "- The mean age of users is approximately 42.74 years.\n",
    "- The median age is 42, suggesting a fairly symmetrical distribution.\n",
    "- The variance and standard deviation indicate the level of age dispersion among users."
   ]
  },
  {
   "cell_type": "markdown",
   "metadata": {},
   "source": [
    "**2. Flights Dataset (flights.csv)**\n",
    "\n",
    "**Flight Price Statistics**\n",
    "- Mean: $957.38\n",
    "- Median: $904.0\n",
    "- Variance: 131,269.91\n",
    "- Standard Deviation: 362.31\n",
    "\n",
    "**Flight Time Statistics**\n",
    "- Mean: 1.42 hours\n",
    "- Median: 1.46 hours\n",
    "- Variance: 0.29\n",
    "- Standard Deviation: 0.54\n",
    "\n",
    "**Flight Distance Statistics**\n",
    "- Mean: 546.96 km\n",
    "- Median: 562.14 km\n",
    "- Variance: 43,618.86\n",
    "- Standard Deviation: 208.85\n",
    "\n",
    "**Interpretation:**\n",
    "- The average flight price is $957.38, with a median of $904.\n",
    "- Flight duration varies, with an average of 1.42 hours and a median of 1.46 hours.\n",
    "- Flight distance statistics indicate common travel ranges, with a mean of 546.96 km."
   ]
  },
  {
   "cell_type": "markdown",
   "metadata": {},
   "source": [
    "**3. Hotels Dataset (hotels.csv)**\n",
    "\n",
    "**Hotel Price per Day Statistics**\n",
    "- Mean: $214.44\n",
    "- Median: $242.88\n",
    "- Variance: 5,889.38\n",
    "- Standard Deviation: 76.74\n",
    "\n",
    "**Hotel Stay Duration Statistics**\n",
    "- Mean: 2.50 days\n",
    "- Median: 2.0 days\n",
    "- Variance: 1.25\n",
    "- Standard Deviation: 1.12\n",
    "\n",
    "**Interpretation:**\n",
    "- The average hotel price per day is $214.44, with a median of $242.88.\n",
    "- The standard deviation suggests moderate variation in hotel pricing.\n",
    "- Hotel stay durations vary, with a mean of 2.5 days."
   ]
  }
 ],
 "metadata": {
  "kernelspec": {
   "display_name": "Python 3",
   "language": "python",
   "name": "python3"
  },
  "language_info": {
   "name": "python",
   "version": "3.8.10"
  }
 },
 "nbformat": 4,
 "nbformat_minor": 4
}
